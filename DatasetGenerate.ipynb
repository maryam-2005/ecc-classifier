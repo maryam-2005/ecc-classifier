{
 "cells": [
  {
   "cell_type": "code",
   "execution_count": 1,
   "id": "830d43c3-e1f5-41d6-8d43-6588430f027c",
   "metadata": {},
   "outputs": [],
   "source": [
    "import numpy as np\n",
    "import pandas as pd\n",
    "import random\n"
   ]
  },
  {
   "cell_type": "code",
   "execution_count": 13,
   "id": "e7b51f0a-4d1c-4b68-9906-5ceb7b4cf1a4",
   "metadata": {},
   "outputs": [],
   "source": [
    "def select_ecc(snr, ber, noise_power, latency, bandwidth, error_burst, data_type, network_type):\n",
    "    \"\"\"\n",
    "    AI Model Simulation: Chooses the best ECC based on conditions.\n",
    "    \"\"\"\n",
    "    if snr >= 15 and ber <= 1e-3:\n",
    "        return \"Hamming\"  # High SNR, low BER → Simple ECC\n",
    "    elif error_burst >= 6:\n",
    "        return \"Reed-Solomon\"  # Good for burst errors\n",
    "    elif noise_power > 0.35 or snr < 4:\n",
    "        return \"LDPC\"  # Strong error correction needed\n",
    "    elif latency > 350:\n",
    "        return \"Turbo\"  # High latency tolerance\n",
    "    elif data_type == \"Streaming\":\n",
    "        return \"Convolutional\"  # Best for continuous data\n",
    "    elif network_type == \"5G\":\n",
    "        return \"Polar\"  # 5G applications\n",
    "    else:\n",
    "        return \"BCH\"  # General-purpose correction\n"
   ]
  },
  {
   "cell_type": "code",
   "execution_count": 29,
   "id": "b3788971-a071-491d-83f6-0ad22ad23c64",
   "metadata": {},
   "outputs": [
    {
     "name": "stdout",
     "output_type": "stream",
     "text": [
      "Dataset with outliers and ambiguity generated and saved as ecc_dataset_with_variability.csv\n"
     ]
    }
   ],
   "source": [
    "num_samples = 10000\n",
    "\n",
    "data = []\n",
    "for _ in range(num_samples):\n",
    "    # Normal ranges\n",
    "    snr = round(random.uniform(0, 30), 2)\n",
    "    ber = round(random.uniform(1e-7, 1e-2), 8)\n",
    "    noise_power = round(random.uniform(0.01, 0.5), 3)\n",
    "    latency = random.randint(10, 500)\n",
    "    bandwidth = round(random.uniform(1, 100), 2)\n",
    "\n",
    "    # Error burst length: introduce skew for fewer high values\n",
    "    error_burst = random.choices(\n",
    "        population=[1, 2, 3, 4, 5, 6, 7, 8, 9, 10],\n",
    "        weights=[18, 15, 13, 12, 10, 8, 7, 5, 3, 2], \n",
    "        k=1\n",
    "    )[0]\n",
    "\n",
    "    data_type = random.choice([\"Streaming\", \"Packet\"])\n",
    "    network_type = random.choice([\"Wi-Fi\", \"5G\", \"Satellite\", \"IoT\", \"Storage\"])\n",
    "\n",
    "    # Inject **outliers** (1-2% of data)\n",
    "    if random.random() < 0.015:  # ~1.5% outlier probability\n",
    "        snr = round(random.uniform(-5, 50), 2)  # Extend SNR range (including negatives)\n",
    "        ber = round(random.uniform(1e-10, 1), 8)  # BER outliers\n",
    "        noise_power = round(random.uniform(0, 2), 3)  # Higher possible noise\n",
    "        latency = random.randint(1, 2000)  # Extreme latency cases\n",
    "        bandwidth = round(random.uniform(0.1, 500), 2)  # Ultra-low or ultra-high BW\n",
    "\n",
    "    # Add small **random noise** (normal distribution) to avoid perfect structure\n",
    "    snr += np.random.normal(0, 1)  # Small fluctuations\n",
    "    ber *= (1 + np.random.normal(0, 0.05))  # Vary BER slightly\n",
    "    latency += int(np.random.normal(0, 10))  # ±10ms fluctuation\n",
    "    bandwidth *= (1 + np.random.normal(0, 0.02))  # ±2% variation\n",
    "\n",
    "    # Clip values to keep within reasonable limits\n",
    "    snr = max(-5, min(snr, 50))\n",
    "    ber = max(1e-10, min(ber, 1))\n",
    "    noise_power = max(0, min(noise_power, 2))\n",
    "    latency = max(1, min(latency, 2000))\n",
    "    bandwidth = max(0.1, min(bandwidth, 500))\n",
    "\n",
    "    # Determine best ECC\n",
    "    ecc = select_ecc(snr, ber, noise_power, latency, bandwidth, error_burst, data_type, network_type)\n",
    "\n",
    "    # **Introduce Ambiguous ECC Cases (5-10% of data)**\n",
    "    if random.random() < 0.075:  # ~7.5% of samples\n",
    "        possible_eccs = [\"Hamming\", \"Reed-Solomon\", \"LDPC\", \"Turbo\", \"Convolutional\", \"Polar\", \"BCH\"]\n",
    "        possible_eccs.remove(ecc)  # Avoid selecting the same one\n",
    "        ecc = random.choice(possible_eccs)  # Assign a different, but valid ECC\n",
    "\n",
    "    # Append to dataset\n",
    "    data.append([snr, ber, noise_power, latency, bandwidth, error_burst, data_type, network_type, ecc])\n",
    "\n",
    "# Create DataFrame\n",
    "df = pd.DataFrame(data, columns=[\"SNR\", \"BER\", \"Noise Power\", \"Latency\", \"Bandwidth\",\n",
    "                                 \"Error Burst Length\", \"Data Type\", \"Network Type\", \"Optimal ECC\"])\n",
    "\n",
    "# Save to CSV\n",
    "df.to_csv(\"ecc_dataset.csv\", index=False)\n",
    "\n",
    "print(\"Dataset with outliers and ambiguity generated and saved as ecc_dataset.csv\")"
   ]
  },
  {
   "cell_type": "code",
   "execution_count": 31,
   "id": "44a57c47-3c5a-4c24-a898-b73af7ce6a4b",
   "metadata": {},
   "outputs": [
    {
     "name": "stdout",
     "output_type": "stream",
     "text": [
      "     SNR       BER  Noise Power  Latency  Bandwidth  Error Burst Length  \\\n",
      "0   9.80  0.001990        0.301      414  71.265642                   4   \n",
      "1   7.84  0.008785        0.036       62  40.257541                   7   \n",
      "2  16.41  0.000209        0.106      379  67.365008                   1   \n",
      "3  26.32  0.005471        0.200      175  65.998675                   4   \n",
      "4  19.84  0.007162        0.383      432  53.129020                   6   \n",
      "\n",
      "   Data Type Network Type   Optimal ECC  \n",
      "0  Streaming           5G         Turbo  \n",
      "1  Streaming    Satellite  Reed-Solomon  \n",
      "2     Packet      Storage       Hamming  \n",
      "3     Packet          IoT           BCH  \n",
      "4     Packet        Wi-Fi  Reed-Solomon  \n",
      "<class 'pandas.core.frame.DataFrame'>\n",
      "RangeIndex: 10000 entries, 0 to 9999\n",
      "Data columns (total 9 columns):\n",
      " #   Column              Non-Null Count  Dtype  \n",
      "---  ------              --------------  -----  \n",
      " 0   SNR                 10000 non-null  float64\n",
      " 1   BER                 10000 non-null  float64\n",
      " 2   Noise Power         10000 non-null  float64\n",
      " 3   Latency             10000 non-null  int64  \n",
      " 4   Bandwidth           10000 non-null  float64\n",
      " 5   Error Burst Length  10000 non-null  int64  \n",
      " 6   Data Type           10000 non-null  object \n",
      " 7   Network Type        10000 non-null  object \n",
      " 8   Optimal ECC         10000 non-null  object \n",
      "dtypes: float64(4), int64(2), object(3)\n",
      "memory usage: 703.3+ KB\n",
      "None\n",
      "Optimal ECC\n",
      "LDPC             2949\n",
      "Reed-Solomon     2187\n",
      "Convolutional    1491\n",
      "Turbo            1383\n",
      "BCH              1189\n",
      "Hamming           526\n",
      "Polar             275\n",
      "Name: count, dtype: int64\n"
     ]
    }
   ],
   "source": [
    "df = pd.read_csv(\"ecc_dataset.csv\")\n",
    "print(df.head())  # Print first few rows\n",
    "print(df.info())  # Check dataset details\n",
    "print(df[\"Optimal ECC\"].value_counts())"
   ]
  },
  {
   "cell_type": "code",
   "execution_count": null,
   "id": "b3e87adf-72b3-438b-96ac-5bab56450735",
   "metadata": {},
   "outputs": [],
   "source": []
  }
 ],
 "metadata": {
  "kernelspec": {
   "display_name": "Python 3 (ipykernel)",
   "language": "python",
   "name": "python3"
  },
  "language_info": {
   "codemirror_mode": {
    "name": "ipython",
    "version": 3
   },
   "file_extension": ".py",
   "mimetype": "text/x-python",
   "name": "python",
   "nbconvert_exporter": "python",
   "pygments_lexer": "ipython3",
   "version": "3.12.7"
  }
 },
 "nbformat": 4,
 "nbformat_minor": 5
}
